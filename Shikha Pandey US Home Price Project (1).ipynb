{
 "cells": [
  {
   "cell_type": "code",
   "execution_count": 1,
   "id": "e6bb3d16",
   "metadata": {},
   "outputs": [],
   "source": [
    "from matplotlib import pyplot as plt\n",
    "import seaborn as sns\n",
    "import numpy as np\n",
    "import pandas as pd \n",
    "from sklearn.impute import SimpleImputer\n",
    "from sklearn.preprocessing import MinMaxScaler\n",
    "from sklearn.model_selection import train_test_split, cross_val_score\n",
    "from sklearn.linear_model import LinearRegression\n",
    "from sklearn.tree import DecisionTreeRegressor\n",
    "from sklearn.ensemble import RandomForestRegressor\n",
    "from sklearn.svm import SVR\n",
    "from sklearn.neural_network import MLPRegressor\n",
    "from sklearn.metrics import mean_squared_error"
   ]
  },
  {
   "cell_type": "code",
   "execution_count": 2,
   "id": "1f649e99",
   "metadata": {},
   "outputs": [],
   "source": [
    "supply_data = pd.read_excel(\"Supply.xlsx\")\n",
    "demand_data = pd.read_excel(\"Demand.xlsx\")"
   ]
  },
  {
   "cell_type": "code",
   "execution_count": 3,
   "id": "7ae6356e",
   "metadata": {},
   "outputs": [
    {
     "data": {
      "text/html": [
       "<div>\n",
       "<style scoped>\n",
       "    .dataframe tbody tr th:only-of-type {\n",
       "        vertical-align: middle;\n",
       "    }\n",
       "\n",
       "    .dataframe tbody tr th {\n",
       "        vertical-align: top;\n",
       "    }\n",
       "\n",
       "    .dataframe thead th {\n",
       "        text-align: right;\n",
       "    }\n",
       "</style>\n",
       "<table border=\"1\" class=\"dataframe\">\n",
       "  <thead>\n",
       "    <tr style=\"text-align: right;\">\n",
       "      <th></th>\n",
       "      <th>DATE</th>\n",
       "      <th>CSUSHPISA</th>\n",
       "      <th>Monthly_Supply_New_Houses</th>\n",
       "      <th>Permit</th>\n",
       "      <th>Total_Construction_Spending</th>\n",
       "      <th>Vacant_Housing_Units</th>\n",
       "    </tr>\n",
       "  </thead>\n",
       "  <tbody>\n",
       "    <tr>\n",
       "      <th>0</th>\n",
       "      <td>2003-01-01</td>\n",
       "      <td>129.320667</td>\n",
       "      <td>4.200000</td>\n",
       "      <td>1806.333333</td>\n",
       "      <td>421328.666667</td>\n",
       "      <td>14908</td>\n",
       "    </tr>\n",
       "    <tr>\n",
       "      <th>1</th>\n",
       "      <td>2003-04-01</td>\n",
       "      <td>131.755667</td>\n",
       "      <td>3.833333</td>\n",
       "      <td>1837.666667</td>\n",
       "      <td>429308.666667</td>\n",
       "      <td>15244</td>\n",
       "    </tr>\n",
       "    <tr>\n",
       "      <th>2</th>\n",
       "      <td>2003-07-01</td>\n",
       "      <td>135.013000</td>\n",
       "      <td>3.633333</td>\n",
       "      <td>1937.333333</td>\n",
       "      <td>458890.000000</td>\n",
       "      <td>15614</td>\n",
       "    </tr>\n",
       "    <tr>\n",
       "      <th>3</th>\n",
       "      <td>2003-10-01</td>\n",
       "      <td>138.834667</td>\n",
       "      <td>3.966667</td>\n",
       "      <td>1972.333333</td>\n",
       "      <td>491437.333333</td>\n",
       "      <td>15654</td>\n",
       "    </tr>\n",
       "    <tr>\n",
       "      <th>4</th>\n",
       "      <td>2004-01-01</td>\n",
       "      <td>143.298667</td>\n",
       "      <td>3.700000</td>\n",
       "      <td>1994.666667</td>\n",
       "      <td>506856.333333</td>\n",
       "      <td>15895</td>\n",
       "    </tr>\n",
       "  </tbody>\n",
       "</table>\n",
       "</div>"
      ],
      "text/plain": [
       "        DATE   CSUSHPISA  Monthly_Supply_New_Houses       Permit  \\\n",
       "0 2003-01-01  129.320667                   4.200000  1806.333333   \n",
       "1 2003-04-01  131.755667                   3.833333  1837.666667   \n",
       "2 2003-07-01  135.013000                   3.633333  1937.333333   \n",
       "3 2003-10-01  138.834667                   3.966667  1972.333333   \n",
       "4 2004-01-01  143.298667                   3.700000  1994.666667   \n",
       "\n",
       "   Total_Construction_Spending  Vacant_Housing_Units  \n",
       "0                421328.666667                 14908  \n",
       "1                429308.666667                 15244  \n",
       "2                458890.000000                 15614  \n",
       "3                491437.333333                 15654  \n",
       "4                506856.333333                 15895  "
      ]
     },
     "execution_count": 3,
     "metadata": {},
     "output_type": "execute_result"
    }
   ],
   "source": [
    "supply_data.head()"
   ]
  },
  {
   "cell_type": "code",
   "execution_count": 4,
   "id": "fc588d94",
   "metadata": {},
   "outputs": [
    {
     "data": {
      "text/html": [
       "<div>\n",
       "<style scoped>\n",
       "    .dataframe tbody tr th:only-of-type {\n",
       "        vertical-align: middle;\n",
       "    }\n",
       "\n",
       "    .dataframe tbody tr th {\n",
       "        vertical-align: top;\n",
       "    }\n",
       "\n",
       "    .dataframe thead th {\n",
       "        text-align: right;\n",
       "    }\n",
       "</style>\n",
       "<table border=\"1\" class=\"dataframe\">\n",
       "  <thead>\n",
       "    <tr style=\"text-align: right;\">\n",
       "      <th></th>\n",
       "      <th>DATE</th>\n",
       "      <th>CSUSHPISA</th>\n",
       "      <th>Mortgage_Average</th>\n",
       "      <th>Consumer_Sentiment</th>\n",
       "      <th>Interest_Rate</th>\n",
       "      <th>Sales_Price_of_Houses_Sold</th>\n",
       "      <th>GDP</th>\n",
       "      <th>Unemployment_rate</th>\n",
       "    </tr>\n",
       "  </thead>\n",
       "  <tbody>\n",
       "    <tr>\n",
       "      <th>0</th>\n",
       "      <td>2003-01-01</td>\n",
       "      <td>129.320667</td>\n",
       "      <td>5.204615</td>\n",
       "      <td>79.966667</td>\n",
       "      <td>2.250000</td>\n",
       "      <td>186000.0</td>\n",
       "      <td>11174.129</td>\n",
       "      <td>5.866667</td>\n",
       "    </tr>\n",
       "    <tr>\n",
       "      <th>1</th>\n",
       "      <td>2003-04-01</td>\n",
       "      <td>131.755667</td>\n",
       "      <td>4.867692</td>\n",
       "      <td>89.266667</td>\n",
       "      <td>2.166667</td>\n",
       "      <td>191800.0</td>\n",
       "      <td>11312.766</td>\n",
       "      <td>6.133333</td>\n",
       "    </tr>\n",
       "    <tr>\n",
       "      <th>2</th>\n",
       "      <td>2003-07-01</td>\n",
       "      <td>135.013000</td>\n",
       "      <td>5.356923</td>\n",
       "      <td>89.300000</td>\n",
       "      <td>2.000000</td>\n",
       "      <td>191900.0</td>\n",
       "      <td>11566.669</td>\n",
       "      <td>6.133333</td>\n",
       "    </tr>\n",
       "    <tr>\n",
       "      <th>3</th>\n",
       "      <td>2003-10-01</td>\n",
       "      <td>138.834667</td>\n",
       "      <td>5.248571</td>\n",
       "      <td>91.966667</td>\n",
       "      <td>2.000000</td>\n",
       "      <td>198800.0</td>\n",
       "      <td>11772.234</td>\n",
       "      <td>5.833333</td>\n",
       "    </tr>\n",
       "    <tr>\n",
       "      <th>4</th>\n",
       "      <td>2004-01-01</td>\n",
       "      <td>143.298667</td>\n",
       "      <td>4.897500</td>\n",
       "      <td>98.000000</td>\n",
       "      <td>2.000000</td>\n",
       "      <td>212700.0</td>\n",
       "      <td>11923.447</td>\n",
       "      <td>5.700000</td>\n",
       "    </tr>\n",
       "  </tbody>\n",
       "</table>\n",
       "</div>"
      ],
      "text/plain": [
       "        DATE   CSUSHPISA  Mortgage_Average   Consumer_Sentiment  \\\n",
       "0 2003-01-01  129.320667           5.204615           79.966667   \n",
       "1 2003-04-01  131.755667           4.867692           89.266667   \n",
       "2 2003-07-01  135.013000           5.356923           89.300000   \n",
       "3 2003-10-01  138.834667           5.248571           91.966667   \n",
       "4 2004-01-01  143.298667           4.897500           98.000000   \n",
       "\n",
       "   Interest_Rate  Sales_Price_of_Houses_Sold        GDP  Unemployment_rate  \n",
       "0       2.250000                    186000.0  11174.129           5.866667  \n",
       "1       2.166667                    191800.0  11312.766           6.133333  \n",
       "2       2.000000                    191900.0  11566.669           6.133333  \n",
       "3       2.000000                    198800.0  11772.234           5.833333  \n",
       "4       2.000000                    212700.0  11923.447           5.700000  "
      ]
     },
     "execution_count": 4,
     "metadata": {},
     "output_type": "execute_result"
    }
   ],
   "source": [
    "demand_data.head()"
   ]
  },
  {
   "cell_type": "code",
   "execution_count": 5,
   "id": "69492d8e",
   "metadata": {},
   "outputs": [],
   "source": [
    "merged_data = pd.merge(supply_data, demand_data, on='DATE', suffixes=('_supply', '_demand'))"
   ]
  },
  {
   "cell_type": "code",
   "execution_count": 6,
   "id": "d3fb3728",
   "metadata": {},
   "outputs": [
    {
     "data": {
      "text/html": [
       "<div>\n",
       "<style scoped>\n",
       "    .dataframe tbody tr th:only-of-type {\n",
       "        vertical-align: middle;\n",
       "    }\n",
       "\n",
       "    .dataframe tbody tr th {\n",
       "        vertical-align: top;\n",
       "    }\n",
       "\n",
       "    .dataframe thead th {\n",
       "        text-align: right;\n",
       "    }\n",
       "</style>\n",
       "<table border=\"1\" class=\"dataframe\">\n",
       "  <thead>\n",
       "    <tr style=\"text-align: right;\">\n",
       "      <th></th>\n",
       "      <th>DATE</th>\n",
       "      <th>CSUSHPISA_supply</th>\n",
       "      <th>Monthly_Supply_New_Houses</th>\n",
       "      <th>Permit</th>\n",
       "      <th>Total_Construction_Spending</th>\n",
       "      <th>Vacant_Housing_Units</th>\n",
       "      <th>CSUSHPISA_demand</th>\n",
       "      <th>Mortgage_Average</th>\n",
       "      <th>Consumer_Sentiment</th>\n",
       "      <th>Interest_Rate</th>\n",
       "      <th>Sales_Price_of_Houses_Sold</th>\n",
       "      <th>GDP</th>\n",
       "      <th>Unemployment_rate</th>\n",
       "    </tr>\n",
       "  </thead>\n",
       "  <tbody>\n",
       "    <tr>\n",
       "      <th>0</th>\n",
       "      <td>2003-01-01</td>\n",
       "      <td>129.320667</td>\n",
       "      <td>4.200000</td>\n",
       "      <td>1806.333333</td>\n",
       "      <td>421328.666667</td>\n",
       "      <td>14908</td>\n",
       "      <td>129.320667</td>\n",
       "      <td>5.204615</td>\n",
       "      <td>79.966667</td>\n",
       "      <td>2.250000</td>\n",
       "      <td>186000.0</td>\n",
       "      <td>11174.129</td>\n",
       "      <td>5.866667</td>\n",
       "    </tr>\n",
       "    <tr>\n",
       "      <th>1</th>\n",
       "      <td>2003-04-01</td>\n",
       "      <td>131.755667</td>\n",
       "      <td>3.833333</td>\n",
       "      <td>1837.666667</td>\n",
       "      <td>429308.666667</td>\n",
       "      <td>15244</td>\n",
       "      <td>131.755667</td>\n",
       "      <td>4.867692</td>\n",
       "      <td>89.266667</td>\n",
       "      <td>2.166667</td>\n",
       "      <td>191800.0</td>\n",
       "      <td>11312.766</td>\n",
       "      <td>6.133333</td>\n",
       "    </tr>\n",
       "    <tr>\n",
       "      <th>2</th>\n",
       "      <td>2003-07-01</td>\n",
       "      <td>135.013000</td>\n",
       "      <td>3.633333</td>\n",
       "      <td>1937.333333</td>\n",
       "      <td>458890.000000</td>\n",
       "      <td>15614</td>\n",
       "      <td>135.013000</td>\n",
       "      <td>5.356923</td>\n",
       "      <td>89.300000</td>\n",
       "      <td>2.000000</td>\n",
       "      <td>191900.0</td>\n",
       "      <td>11566.669</td>\n",
       "      <td>6.133333</td>\n",
       "    </tr>\n",
       "    <tr>\n",
       "      <th>3</th>\n",
       "      <td>2003-10-01</td>\n",
       "      <td>138.834667</td>\n",
       "      <td>3.966667</td>\n",
       "      <td>1972.333333</td>\n",
       "      <td>491437.333333</td>\n",
       "      <td>15654</td>\n",
       "      <td>138.834667</td>\n",
       "      <td>5.248571</td>\n",
       "      <td>91.966667</td>\n",
       "      <td>2.000000</td>\n",
       "      <td>198800.0</td>\n",
       "      <td>11772.234</td>\n",
       "      <td>5.833333</td>\n",
       "    </tr>\n",
       "    <tr>\n",
       "      <th>4</th>\n",
       "      <td>2004-01-01</td>\n",
       "      <td>143.298667</td>\n",
       "      <td>3.700000</td>\n",
       "      <td>1994.666667</td>\n",
       "      <td>506856.333333</td>\n",
       "      <td>15895</td>\n",
       "      <td>143.298667</td>\n",
       "      <td>4.897500</td>\n",
       "      <td>98.000000</td>\n",
       "      <td>2.000000</td>\n",
       "      <td>212700.0</td>\n",
       "      <td>11923.447</td>\n",
       "      <td>5.700000</td>\n",
       "    </tr>\n",
       "  </tbody>\n",
       "</table>\n",
       "</div>"
      ],
      "text/plain": [
       "        DATE  CSUSHPISA_supply  Monthly_Supply_New_Houses       Permit  \\\n",
       "0 2003-01-01        129.320667                   4.200000  1806.333333   \n",
       "1 2003-04-01        131.755667                   3.833333  1837.666667   \n",
       "2 2003-07-01        135.013000                   3.633333  1937.333333   \n",
       "3 2003-10-01        138.834667                   3.966667  1972.333333   \n",
       "4 2004-01-01        143.298667                   3.700000  1994.666667   \n",
       "\n",
       "   Total_Construction_Spending  Vacant_Housing_Units  CSUSHPISA_demand  \\\n",
       "0                421328.666667                 14908        129.320667   \n",
       "1                429308.666667                 15244        131.755667   \n",
       "2                458890.000000                 15614        135.013000   \n",
       "3                491437.333333                 15654        138.834667   \n",
       "4                506856.333333                 15895        143.298667   \n",
       "\n",
       "   Mortgage_Average   Consumer_Sentiment  Interest_Rate  \\\n",
       "0           5.204615           79.966667       2.250000   \n",
       "1           4.867692           89.266667       2.166667   \n",
       "2           5.356923           89.300000       2.000000   \n",
       "3           5.248571           91.966667       2.000000   \n",
       "4           4.897500           98.000000       2.000000   \n",
       "\n",
       "   Sales_Price_of_Houses_Sold        GDP  Unemployment_rate  \n",
       "0                    186000.0  11174.129           5.866667  \n",
       "1                    191800.0  11312.766           6.133333  \n",
       "2                    191900.0  11566.669           6.133333  \n",
       "3                    198800.0  11772.234           5.833333  \n",
       "4                    212700.0  11923.447           5.700000  "
      ]
     },
     "execution_count": 6,
     "metadata": {},
     "output_type": "execute_result"
    }
   ],
   "source": [
    "merged_data.head()"
   ]
  },
  {
   "cell_type": "code",
   "execution_count": 7,
   "id": "bac789ff",
   "metadata": {},
   "outputs": [
    {
     "data": {
      "text/plain": [
       "DATE                           0\n",
       "CSUSHPISA_supply               0\n",
       "Monthly_Supply_New_Houses      0\n",
       "Permit                         0\n",
       "Total_Construction_Spending    0\n",
       "Vacant_Housing_Units           0\n",
       "CSUSHPISA_demand               0\n",
       "Mortgage_Average               0\n",
       "Consumer_Sentiment             0\n",
       "Interest_Rate                  0\n",
       "Sales_Price_of_Houses_Sold     0\n",
       "GDP                            0\n",
       "Unemployment_rate              0\n",
       "dtype: int64"
      ]
     },
     "execution_count": 7,
     "metadata": {},
     "output_type": "execute_result"
    }
   ],
   "source": [
    "merged_data.isnull().sum()"
   ]
  },
  {
   "cell_type": "code",
   "execution_count": 8,
   "id": "c0173d0f",
   "metadata": {},
   "outputs": [],
   "source": [
    "merged_data.drop('CSUSHPISA_supply', axis=1, inplace=True)\n",
    "\n",
    "merged_data.rename(columns={'CSUSHPISA_demand': 'CSUSHPISA'}, inplace=True)"
   ]
  },
  {
   "cell_type": "code",
   "execution_count": 9,
   "id": "7b6303b9",
   "metadata": {},
   "outputs": [
    {
     "data": {
      "text/html": [
       "<div>\n",
       "<style scoped>\n",
       "    .dataframe tbody tr th:only-of-type {\n",
       "        vertical-align: middle;\n",
       "    }\n",
       "\n",
       "    .dataframe tbody tr th {\n",
       "        vertical-align: top;\n",
       "    }\n",
       "\n",
       "    .dataframe thead th {\n",
       "        text-align: right;\n",
       "    }\n",
       "</style>\n",
       "<table border=\"1\" class=\"dataframe\">\n",
       "  <thead>\n",
       "    <tr style=\"text-align: right;\">\n",
       "      <th></th>\n",
       "      <th>DATE</th>\n",
       "      <th>Monthly_Supply_New_Houses</th>\n",
       "      <th>Permit</th>\n",
       "      <th>Total_Construction_Spending</th>\n",
       "      <th>Vacant_Housing_Units</th>\n",
       "      <th>CSUSHPISA</th>\n",
       "      <th>Mortgage_Average</th>\n",
       "      <th>Consumer_Sentiment</th>\n",
       "      <th>Interest_Rate</th>\n",
       "      <th>Sales_Price_of_Houses_Sold</th>\n",
       "      <th>GDP</th>\n",
       "      <th>Unemployment_rate</th>\n",
       "    </tr>\n",
       "  </thead>\n",
       "  <tbody>\n",
       "    <tr>\n",
       "      <th>0</th>\n",
       "      <td>2003-01-01</td>\n",
       "      <td>4.200000</td>\n",
       "      <td>1806.333333</td>\n",
       "      <td>421328.666667</td>\n",
       "      <td>14908</td>\n",
       "      <td>129.320667</td>\n",
       "      <td>5.204615</td>\n",
       "      <td>79.966667</td>\n",
       "      <td>2.250000</td>\n",
       "      <td>186000.0</td>\n",
       "      <td>11174.129</td>\n",
       "      <td>5.866667</td>\n",
       "    </tr>\n",
       "    <tr>\n",
       "      <th>1</th>\n",
       "      <td>2003-04-01</td>\n",
       "      <td>3.833333</td>\n",
       "      <td>1837.666667</td>\n",
       "      <td>429308.666667</td>\n",
       "      <td>15244</td>\n",
       "      <td>131.755667</td>\n",
       "      <td>4.867692</td>\n",
       "      <td>89.266667</td>\n",
       "      <td>2.166667</td>\n",
       "      <td>191800.0</td>\n",
       "      <td>11312.766</td>\n",
       "      <td>6.133333</td>\n",
       "    </tr>\n",
       "    <tr>\n",
       "      <th>2</th>\n",
       "      <td>2003-07-01</td>\n",
       "      <td>3.633333</td>\n",
       "      <td>1937.333333</td>\n",
       "      <td>458890.000000</td>\n",
       "      <td>15614</td>\n",
       "      <td>135.013000</td>\n",
       "      <td>5.356923</td>\n",
       "      <td>89.300000</td>\n",
       "      <td>2.000000</td>\n",
       "      <td>191900.0</td>\n",
       "      <td>11566.669</td>\n",
       "      <td>6.133333</td>\n",
       "    </tr>\n",
       "    <tr>\n",
       "      <th>3</th>\n",
       "      <td>2003-10-01</td>\n",
       "      <td>3.966667</td>\n",
       "      <td>1972.333333</td>\n",
       "      <td>491437.333333</td>\n",
       "      <td>15654</td>\n",
       "      <td>138.834667</td>\n",
       "      <td>5.248571</td>\n",
       "      <td>91.966667</td>\n",
       "      <td>2.000000</td>\n",
       "      <td>198800.0</td>\n",
       "      <td>11772.234</td>\n",
       "      <td>5.833333</td>\n",
       "    </tr>\n",
       "    <tr>\n",
       "      <th>4</th>\n",
       "      <td>2004-01-01</td>\n",
       "      <td>3.700000</td>\n",
       "      <td>1994.666667</td>\n",
       "      <td>506856.333333</td>\n",
       "      <td>15895</td>\n",
       "      <td>143.298667</td>\n",
       "      <td>4.897500</td>\n",
       "      <td>98.000000</td>\n",
       "      <td>2.000000</td>\n",
       "      <td>212700.0</td>\n",
       "      <td>11923.447</td>\n",
       "      <td>5.700000</td>\n",
       "    </tr>\n",
       "  </tbody>\n",
       "</table>\n",
       "</div>"
      ],
      "text/plain": [
       "        DATE  Monthly_Supply_New_Houses       Permit  \\\n",
       "0 2003-01-01                   4.200000  1806.333333   \n",
       "1 2003-04-01                   3.833333  1837.666667   \n",
       "2 2003-07-01                   3.633333  1937.333333   \n",
       "3 2003-10-01                   3.966667  1972.333333   \n",
       "4 2004-01-01                   3.700000  1994.666667   \n",
       "\n",
       "   Total_Construction_Spending  Vacant_Housing_Units   CSUSHPISA  \\\n",
       "0                421328.666667                 14908  129.320667   \n",
       "1                429308.666667                 15244  131.755667   \n",
       "2                458890.000000                 15614  135.013000   \n",
       "3                491437.333333                 15654  138.834667   \n",
       "4                506856.333333                 15895  143.298667   \n",
       "\n",
       "   Mortgage_Average   Consumer_Sentiment  Interest_Rate  \\\n",
       "0           5.204615           79.966667       2.250000   \n",
       "1           4.867692           89.266667       2.166667   \n",
       "2           5.356923           89.300000       2.000000   \n",
       "3           5.248571           91.966667       2.000000   \n",
       "4           4.897500           98.000000       2.000000   \n",
       "\n",
       "   Sales_Price_of_Houses_Sold        GDP  Unemployment_rate  \n",
       "0                    186000.0  11174.129           5.866667  \n",
       "1                    191800.0  11312.766           6.133333  \n",
       "2                    191900.0  11566.669           6.133333  \n",
       "3                    198800.0  11772.234           5.833333  \n",
       "4                    212700.0  11923.447           5.700000  "
      ]
     },
     "execution_count": 9,
     "metadata": {},
     "output_type": "execute_result"
    }
   ],
   "source": [
    "merged_data.head()"
   ]
  },
  {
   "cell_type": "code",
   "execution_count": 10,
   "id": "2128606b",
   "metadata": {},
   "outputs": [
    {
     "name": "stdout",
     "output_type": "stream",
     "text": [
      "<class 'pandas.core.frame.DataFrame'>\n",
      "Int64Index: 82 entries, 0 to 81\n",
      "Data columns (total 12 columns):\n",
      " #   Column                       Non-Null Count  Dtype         \n",
      "---  ------                       --------------  -----         \n",
      " 0   DATE                         82 non-null     datetime64[ns]\n",
      " 1   Monthly_Supply_New_Houses    82 non-null     float64       \n",
      " 2   Permit                       82 non-null     float64       \n",
      " 3   Total_Construction_Spending  82 non-null     float64       \n",
      " 4   Vacant_Housing_Units         82 non-null     int64         \n",
      " 5   CSUSHPISA                    82 non-null     float64       \n",
      " 6   Mortgage_Average             82 non-null     float64       \n",
      " 7   Consumer_Sentiment           82 non-null     float64       \n",
      " 8   Interest_Rate                82 non-null     float64       \n",
      " 9   Sales_Price_of_Houses_Sold   82 non-null     float64       \n",
      " 10  GDP                          82 non-null     float64       \n",
      " 11  Unemployment_rate            82 non-null     float64       \n",
      "dtypes: datetime64[ns](1), float64(10), int64(1)\n",
      "memory usage: 8.3 KB\n"
     ]
    }
   ],
   "source": [
    "merged_data.info()"
   ]
  },
  {
   "cell_type": "code",
   "execution_count": 11,
   "id": "737e02c7",
   "metadata": {},
   "outputs": [
    {
     "data": {
      "text/html": [
       "<div>\n",
       "<style scoped>\n",
       "    .dataframe tbody tr th:only-of-type {\n",
       "        vertical-align: middle;\n",
       "    }\n",
       "\n",
       "    .dataframe tbody tr th {\n",
       "        vertical-align: top;\n",
       "    }\n",
       "\n",
       "    .dataframe thead th {\n",
       "        text-align: right;\n",
       "    }\n",
       "</style>\n",
       "<table border=\"1\" class=\"dataframe\">\n",
       "  <thead>\n",
       "    <tr style=\"text-align: right;\">\n",
       "      <th></th>\n",
       "      <th>Monthly_Supply_New_Houses</th>\n",
       "      <th>Permit</th>\n",
       "      <th>Total_Construction_Spending</th>\n",
       "      <th>Vacant_Housing_Units</th>\n",
       "      <th>CSUSHPISA</th>\n",
       "      <th>Mortgage_Average</th>\n",
       "      <th>Consumer_Sentiment</th>\n",
       "      <th>Interest_Rate</th>\n",
       "      <th>Sales_Price_of_Houses_Sold</th>\n",
       "      <th>GDP</th>\n",
       "      <th>Unemployment_rate</th>\n",
       "    </tr>\n",
       "  </thead>\n",
       "  <tbody>\n",
       "    <tr>\n",
       "      <th>count</th>\n",
       "      <td>82.000000</td>\n",
       "      <td>82.000000</td>\n",
       "      <td>82.000000</td>\n",
       "      <td>82.000000</td>\n",
       "      <td>82.000000</td>\n",
       "      <td>82.000000</td>\n",
       "      <td>82.000000</td>\n",
       "      <td>82.000000</td>\n",
       "      <td>82.000000</td>\n",
       "      <td>82.000000</td>\n",
       "      <td>82.000000</td>\n",
       "    </tr>\n",
       "    <tr>\n",
       "      <th>mean</th>\n",
       "      <td>6.179268</td>\n",
       "      <td>1312.483740</td>\n",
       "      <td>500731.199187</td>\n",
       "      <td>17074.134146</td>\n",
       "      <td>183.567545</td>\n",
       "      <td>4.107128</td>\n",
       "      <td>81.908537</td>\n",
       "      <td>86756.449187</td>\n",
       "      <td>282656.097561</td>\n",
       "      <td>17415.122317</td>\n",
       "      <td>5.951626</td>\n",
       "    </tr>\n",
       "    <tr>\n",
       "      <th>std</th>\n",
       "      <td>1.916255</td>\n",
       "      <td>474.382467</td>\n",
       "      <td>186961.290579</td>\n",
       "      <td>1390.719813</td>\n",
       "      <td>44.891274</td>\n",
       "      <td>1.215114</td>\n",
       "      <td>12.523287</td>\n",
       "      <td>265888.362085</td>\n",
       "      <td>69112.688616</td>\n",
       "      <td>3971.001826</td>\n",
       "      <td>2.039858</td>\n",
       "    </tr>\n",
       "    <tr>\n",
       "      <th>min</th>\n",
       "      <td>3.366667</td>\n",
       "      <td>538.666667</td>\n",
       "      <td>246953.333333</td>\n",
       "      <td>13876.000000</td>\n",
       "      <td>129.320667</td>\n",
       "      <td>2.171429</td>\n",
       "      <td>56.100000</td>\n",
       "      <td>0.250000</td>\n",
       "      <td>186000.000000</td>\n",
       "      <td>11174.129000</td>\n",
       "      <td>3.500000</td>\n",
       "    </tr>\n",
       "    <tr>\n",
       "      <th>25%</th>\n",
       "      <td>4.825000</td>\n",
       "      <td>997.500000</td>\n",
       "      <td>359315.916667</td>\n",
       "      <td>15838.000000</td>\n",
       "      <td>148.215917</td>\n",
       "      <td>3.124986</td>\n",
       "      <td>73.266667</td>\n",
       "      <td>0.750000</td>\n",
       "      <td>228275.000000</td>\n",
       "      <td>14477.690750</td>\n",
       "      <td>4.500000</td>\n",
       "    </tr>\n",
       "    <tr>\n",
       "      <th>50%</th>\n",
       "      <td>5.600000</td>\n",
       "      <td>1285.666667</td>\n",
       "      <td>499146.833333</td>\n",
       "      <td>17263.000000</td>\n",
       "      <td>173.772667</td>\n",
       "      <td>3.832308</td>\n",
       "      <td>82.900000</td>\n",
       "      <td>1.666667</td>\n",
       "      <td>261600.000000</td>\n",
       "      <td>16664.300500</td>\n",
       "      <td>5.383333</td>\n",
       "    </tr>\n",
       "    <tr>\n",
       "      <th>75%</th>\n",
       "      <td>7.516667</td>\n",
       "      <td>1692.583333</td>\n",
       "      <td>589578.333333</td>\n",
       "      <td>18208.500000</td>\n",
       "      <td>200.870833</td>\n",
       "      <td>5.277308</td>\n",
       "      <td>92.916667</td>\n",
       "      <td>3.125000</td>\n",
       "      <td>319975.000000</td>\n",
       "      <td>20090.302000</td>\n",
       "      <td>7.158333</td>\n",
       "    </tr>\n",
       "    <tr>\n",
       "      <th>max</th>\n",
       "      <td>11.400000</td>\n",
       "      <td>2228.333333</td>\n",
       "      <td>973236.666667</td>\n",
       "      <td>19137.000000</td>\n",
       "      <td>303.115333</td>\n",
       "      <td>6.228462</td>\n",
       "      <td>98.933333</td>\n",
       "      <td>973236.666667</td>\n",
       "      <td>479500.000000</td>\n",
       "      <td>26798.605000</td>\n",
       "      <td>12.966667</td>\n",
       "    </tr>\n",
       "  </tbody>\n",
       "</table>\n",
       "</div>"
      ],
      "text/plain": [
       "       Monthly_Supply_New_Houses       Permit  Total_Construction_Spending  \\\n",
       "count                  82.000000    82.000000                    82.000000   \n",
       "mean                    6.179268  1312.483740                500731.199187   \n",
       "std                     1.916255   474.382467                186961.290579   \n",
       "min                     3.366667   538.666667                246953.333333   \n",
       "25%                     4.825000   997.500000                359315.916667   \n",
       "50%                     5.600000  1285.666667                499146.833333   \n",
       "75%                     7.516667  1692.583333                589578.333333   \n",
       "max                    11.400000  2228.333333                973236.666667   \n",
       "\n",
       "       Vacant_Housing_Units   CSUSHPISA  Mortgage_Average   \\\n",
       "count             82.000000   82.000000          82.000000   \n",
       "mean           17074.134146  183.567545           4.107128   \n",
       "std             1390.719813   44.891274           1.215114   \n",
       "min            13876.000000  129.320667           2.171429   \n",
       "25%            15838.000000  148.215917           3.124986   \n",
       "50%            17263.000000  173.772667           3.832308   \n",
       "75%            18208.500000  200.870833           5.277308   \n",
       "max            19137.000000  303.115333           6.228462   \n",
       "\n",
       "       Consumer_Sentiment  Interest_Rate  Sales_Price_of_Houses_Sold  \\\n",
       "count           82.000000      82.000000                   82.000000   \n",
       "mean            81.908537   86756.449187               282656.097561   \n",
       "std             12.523287  265888.362085                69112.688616   \n",
       "min             56.100000       0.250000               186000.000000   \n",
       "25%             73.266667       0.750000               228275.000000   \n",
       "50%             82.900000       1.666667               261600.000000   \n",
       "75%             92.916667       3.125000               319975.000000   \n",
       "max             98.933333  973236.666667               479500.000000   \n",
       "\n",
       "                GDP  Unemployment_rate  \n",
       "count     82.000000          82.000000  \n",
       "mean   17415.122317           5.951626  \n",
       "std     3971.001826           2.039858  \n",
       "min    11174.129000           3.500000  \n",
       "25%    14477.690750           4.500000  \n",
       "50%    16664.300500           5.383333  \n",
       "75%    20090.302000           7.158333  \n",
       "max    26798.605000          12.966667  "
      ]
     },
     "execution_count": 11,
     "metadata": {},
     "output_type": "execute_result"
    }
   ],
   "source": [
    "merged_data.describe()"
   ]
  },
  {
   "cell_type": "markdown",
   "id": "abd9807c",
   "metadata": {},
   "source": [
    "### Exploratory data analysis"
   ]
  },
  {
   "cell_type": "code",
   "execution_count": 12,
   "id": "16f51e30",
   "metadata": {
    "scrolled": true
   },
   "outputs": [
    {
     "data": {
      "text/html": [
       "<div>\n",
       "<style scoped>\n",
       "    .dataframe tbody tr th:only-of-type {\n",
       "        vertical-align: middle;\n",
       "    }\n",
       "\n",
       "    .dataframe tbody tr th {\n",
       "        vertical-align: top;\n",
       "    }\n",
       "\n",
       "    .dataframe thead th {\n",
       "        text-align: right;\n",
       "    }\n",
       "</style>\n",
       "<table border=\"1\" class=\"dataframe\">\n",
       "  <thead>\n",
       "    <tr style=\"text-align: right;\">\n",
       "      <th></th>\n",
       "      <th>Monthly_Supply_New_Houses</th>\n",
       "      <th>Permit</th>\n",
       "      <th>Total_Construction_Spending</th>\n",
       "      <th>Vacant_Housing_Units</th>\n",
       "      <th>CSUSHPISA</th>\n",
       "      <th>Mortgage_Average</th>\n",
       "      <th>Consumer_Sentiment</th>\n",
       "      <th>Interest_Rate</th>\n",
       "      <th>Sales_Price_of_Houses_Sold</th>\n",
       "      <th>GDP</th>\n",
       "      <th>Unemployment_rate</th>\n",
       "    </tr>\n",
       "  </thead>\n",
       "  <tbody>\n",
       "    <tr>\n",
       "      <th>Monthly_Supply_New_Houses</th>\n",
       "      <td>1.000000</td>\n",
       "      <td>-0.454899</td>\n",
       "      <td>-0.080381</td>\n",
       "      <td>0.396653</td>\n",
       "      <td>0.165869</td>\n",
       "      <td>0.438095</td>\n",
       "      <td>-0.614107</td>\n",
       "      <td>0.268220</td>\n",
       "      <td>0.049437</td>\n",
       "      <td>0.091014</td>\n",
       "      <td>0.031334</td>\n",
       "    </tr>\n",
       "    <tr>\n",
       "      <th>Permit</th>\n",
       "      <td>-0.454899</td>\n",
       "      <td>1.000000</td>\n",
       "      <td>0.733634</td>\n",
       "      <td>-0.822227</td>\n",
       "      <td>0.365395</td>\n",
       "      <td>0.290359</td>\n",
       "      <td>0.413024</td>\n",
       "      <td>0.224773</td>\n",
       "      <td>0.217699</td>\n",
       "      <td>0.011688</td>\n",
       "      <td>-0.596828</td>\n",
       "    </tr>\n",
       "    <tr>\n",
       "      <th>Total_Construction_Spending</th>\n",
       "      <td>-0.080381</td>\n",
       "      <td>0.733634</td>\n",
       "      <td>1.000000</td>\n",
       "      <td>-0.828202</td>\n",
       "      <td>0.894810</td>\n",
       "      <td>0.079500</td>\n",
       "      <td>0.050459</td>\n",
       "      <td>0.690778</td>\n",
       "      <td>0.783473</td>\n",
       "      <td>0.630767</td>\n",
       "      <td>-0.659597</td>\n",
       "    </tr>\n",
       "    <tr>\n",
       "      <th>Vacant_Housing_Units</th>\n",
       "      <td>0.396653</td>\n",
       "      <td>-0.822227</td>\n",
       "      <td>-0.828202</td>\n",
       "      <td>1.000000</td>\n",
       "      <td>-0.618188</td>\n",
       "      <td>-0.050908</td>\n",
       "      <td>-0.177967</td>\n",
       "      <td>-0.467859</td>\n",
       "      <td>-0.516316</td>\n",
       "      <td>-0.366176</td>\n",
       "      <td>0.424776</td>\n",
       "    </tr>\n",
       "    <tr>\n",
       "      <th>CSUSHPISA</th>\n",
       "      <td>0.165869</td>\n",
       "      <td>0.365395</td>\n",
       "      <td>0.894810</td>\n",
       "      <td>-0.618188</td>\n",
       "      <td>1.000000</td>\n",
       "      <td>-0.092647</td>\n",
       "      <td>-0.182856</td>\n",
       "      <td>0.802416</td>\n",
       "      <td>0.942899</td>\n",
       "      <td>0.876382</td>\n",
       "      <td>-0.532414</td>\n",
       "    </tr>\n",
       "    <tr>\n",
       "      <th>Mortgage_Average</th>\n",
       "      <td>0.438095</td>\n",
       "      <td>0.290359</td>\n",
       "      <td>0.079500</td>\n",
       "      <td>-0.050908</td>\n",
       "      <td>-0.092647</td>\n",
       "      <td>1.000000</td>\n",
       "      <td>-0.130136</td>\n",
       "      <td>0.050170</td>\n",
       "      <td>-0.346153</td>\n",
       "      <td>-0.460052</td>\n",
       "      <td>-0.220576</td>\n",
       "    </tr>\n",
       "    <tr>\n",
       "      <th>Consumer_Sentiment</th>\n",
       "      <td>-0.614107</td>\n",
       "      <td>0.413024</td>\n",
       "      <td>0.050459</td>\n",
       "      <td>-0.177967</td>\n",
       "      <td>-0.182856</td>\n",
       "      <td>-0.130136</td>\n",
       "      <td>1.000000</td>\n",
       "      <td>-0.492731</td>\n",
       "      <td>-0.113059</td>\n",
       "      <td>-0.147807</td>\n",
       "      <td>-0.425508</td>\n",
       "    </tr>\n",
       "    <tr>\n",
       "      <th>Interest_Rate</th>\n",
       "      <td>0.268220</td>\n",
       "      <td>0.224773</td>\n",
       "      <td>0.690778</td>\n",
       "      <td>-0.467859</td>\n",
       "      <td>0.802416</td>\n",
       "      <td>0.050170</td>\n",
       "      <td>-0.492731</td>\n",
       "      <td>1.000000</td>\n",
       "      <td>0.748643</td>\n",
       "      <td>0.663223</td>\n",
       "      <td>-0.339302</td>\n",
       "    </tr>\n",
       "    <tr>\n",
       "      <th>Sales_Price_of_Houses_Sold</th>\n",
       "      <td>0.049437</td>\n",
       "      <td>0.217699</td>\n",
       "      <td>0.783473</td>\n",
       "      <td>-0.516316</td>\n",
       "      <td>0.942899</td>\n",
       "      <td>-0.346153</td>\n",
       "      <td>-0.113059</td>\n",
       "      <td>0.748643</td>\n",
       "      <td>1.000000</td>\n",
       "      <td>0.959804</td>\n",
       "      <td>-0.483814</td>\n",
       "    </tr>\n",
       "    <tr>\n",
       "      <th>GDP</th>\n",
       "      <td>0.091014</td>\n",
       "      <td>0.011688</td>\n",
       "      <td>0.630767</td>\n",
       "      <td>-0.366176</td>\n",
       "      <td>0.876382</td>\n",
       "      <td>-0.460052</td>\n",
       "      <td>-0.147807</td>\n",
       "      <td>0.663223</td>\n",
       "      <td>0.959804</td>\n",
       "      <td>1.000000</td>\n",
       "      <td>-0.376007</td>\n",
       "    </tr>\n",
       "    <tr>\n",
       "      <th>Unemployment_rate</th>\n",
       "      <td>0.031334</td>\n",
       "      <td>-0.596828</td>\n",
       "      <td>-0.659597</td>\n",
       "      <td>0.424776</td>\n",
       "      <td>-0.532414</td>\n",
       "      <td>-0.220576</td>\n",
       "      <td>-0.425508</td>\n",
       "      <td>-0.339302</td>\n",
       "      <td>-0.483814</td>\n",
       "      <td>-0.376007</td>\n",
       "      <td>1.000000</td>\n",
       "    </tr>\n",
       "  </tbody>\n",
       "</table>\n",
       "</div>"
      ],
      "text/plain": [
       "                             Monthly_Supply_New_Houses    Permit  \\\n",
       "Monthly_Supply_New_Houses                     1.000000 -0.454899   \n",
       "Permit                                       -0.454899  1.000000   \n",
       "Total_Construction_Spending                  -0.080381  0.733634   \n",
       "Vacant_Housing_Units                          0.396653 -0.822227   \n",
       "CSUSHPISA                                     0.165869  0.365395   \n",
       "Mortgage_Average                              0.438095  0.290359   \n",
       "Consumer_Sentiment                           -0.614107  0.413024   \n",
       "Interest_Rate                                 0.268220  0.224773   \n",
       "Sales_Price_of_Houses_Sold                    0.049437  0.217699   \n",
       "GDP                                           0.091014  0.011688   \n",
       "Unemployment_rate                             0.031334 -0.596828   \n",
       "\n",
       "                             Total_Construction_Spending  \\\n",
       "Monthly_Supply_New_Houses                      -0.080381   \n",
       "Permit                                          0.733634   \n",
       "Total_Construction_Spending                     1.000000   \n",
       "Vacant_Housing_Units                           -0.828202   \n",
       "CSUSHPISA                                       0.894810   \n",
       "Mortgage_Average                                0.079500   \n",
       "Consumer_Sentiment                              0.050459   \n",
       "Interest_Rate                                   0.690778   \n",
       "Sales_Price_of_Houses_Sold                      0.783473   \n",
       "GDP                                             0.630767   \n",
       "Unemployment_rate                              -0.659597   \n",
       "\n",
       "                             Vacant_Housing_Units  CSUSHPISA  \\\n",
       "Monthly_Supply_New_Houses                0.396653   0.165869   \n",
       "Permit                                  -0.822227   0.365395   \n",
       "Total_Construction_Spending             -0.828202   0.894810   \n",
       "Vacant_Housing_Units                     1.000000  -0.618188   \n",
       "CSUSHPISA                               -0.618188   1.000000   \n",
       "Mortgage_Average                        -0.050908  -0.092647   \n",
       "Consumer_Sentiment                      -0.177967  -0.182856   \n",
       "Interest_Rate                           -0.467859   0.802416   \n",
       "Sales_Price_of_Houses_Sold              -0.516316   0.942899   \n",
       "GDP                                     -0.366176   0.876382   \n",
       "Unemployment_rate                        0.424776  -0.532414   \n",
       "\n",
       "                             Mortgage_Average   Consumer_Sentiment  \\\n",
       "Monthly_Supply_New_Houses             0.438095           -0.614107   \n",
       "Permit                                0.290359            0.413024   \n",
       "Total_Construction_Spending           0.079500            0.050459   \n",
       "Vacant_Housing_Units                 -0.050908           -0.177967   \n",
       "CSUSHPISA                            -0.092647           -0.182856   \n",
       "Mortgage_Average                      1.000000           -0.130136   \n",
       "Consumer_Sentiment                   -0.130136            1.000000   \n",
       "Interest_Rate                         0.050170           -0.492731   \n",
       "Sales_Price_of_Houses_Sold           -0.346153           -0.113059   \n",
       "GDP                                  -0.460052           -0.147807   \n",
       "Unemployment_rate                    -0.220576           -0.425508   \n",
       "\n",
       "                             Interest_Rate  Sales_Price_of_Houses_Sold  \\\n",
       "Monthly_Supply_New_Houses         0.268220                    0.049437   \n",
       "Permit                            0.224773                    0.217699   \n",
       "Total_Construction_Spending       0.690778                    0.783473   \n",
       "Vacant_Housing_Units             -0.467859                   -0.516316   \n",
       "CSUSHPISA                         0.802416                    0.942899   \n",
       "Mortgage_Average                  0.050170                   -0.346153   \n",
       "Consumer_Sentiment               -0.492731                   -0.113059   \n",
       "Interest_Rate                     1.000000                    0.748643   \n",
       "Sales_Price_of_Houses_Sold        0.748643                    1.000000   \n",
       "GDP                               0.663223                    0.959804   \n",
       "Unemployment_rate                -0.339302                   -0.483814   \n",
       "\n",
       "                                  GDP  Unemployment_rate  \n",
       "Monthly_Supply_New_Houses    0.091014           0.031334  \n",
       "Permit                       0.011688          -0.596828  \n",
       "Total_Construction_Spending  0.630767          -0.659597  \n",
       "Vacant_Housing_Units        -0.366176           0.424776  \n",
       "CSUSHPISA                    0.876382          -0.532414  \n",
       "Mortgage_Average            -0.460052          -0.220576  \n",
       "Consumer_Sentiment          -0.147807          -0.425508  \n",
       "Interest_Rate                0.663223          -0.339302  \n",
       "Sales_Price_of_Houses_Sold   0.959804          -0.483814  \n",
       "GDP                          1.000000          -0.376007  \n",
       "Unemployment_rate           -0.376007           1.000000  "
      ]
     },
     "execution_count": 12,
     "metadata": {},
     "output_type": "execute_result"
    }
   ],
   "source": [
    "merged_data.corr()"
   ]
  },
  {
   "cell_type": "code",
   "execution_count": 13,
   "id": "5efd70ec",
   "metadata": {},
   "outputs": [
    {
     "data": {
      "image/png": "[encoded data removed]",
      "text/plain": [
       "<Figure size 720x720 with 2 Axes>"
      ]
     },
     "metadata": {
      "needs_background": "light"
     },
     "output_type": "display_data"
    }
   ],
   "source": [
    "fig,ax = plt.subplots(figsize=(10, 10))   \n",
    "sns.heatmap(merged_data.corr(), ax=ax, annot=True, linewidths=0.05, fmt= '.2f',cmap=\"magma\") # the color intensity is based on correlation\n",
    "plt.show()"
   ]
  },
  {
   "cell_type": "code",
   "execution_count": 14,
   "id": "7e3b2ed1",
   "metadata": {},
   "outputs": [
    {
     "name": "stdout",
     "output_type": "stream",
     "text": [
      "Number of duplicate rows = 0\n"
     ]
    }
   ],
   "source": [
    "dups = merged_data.duplicated()\n",
    "print('Number of duplicate rows = %d' % (dups.sum()))"
   ]
  },
  {
   "cell_type": "markdown",
   "id": "ce466a05",
   "metadata": {},
   "source": [
    "1. From the above heatmap and Correlation values we can say that CSUSHPISA is highly positively correlated with Sales Priceof Houses sold with correlation of 0.94, GDP with correlation value 0.88, Interest rate with rate 0.80.\n",
    "2. Total Construction Spending is positively correlated with CSUSHPISA woth value 0.89, Sales price of house sold of value 0.75.\n",
    "3. Sales price of house sold is positively related with GDP with value 0.96."
   ]
  },
  {
   "cell_type": "code",
   "execution_count": 15,
   "id": "c44709d9",
   "metadata": {},
   "outputs": [
    {
     "data": {
      "image/png": "[encoded data removed]",
      "text/plain": [
       "<Figure size 720x720 with 1 Axes>"
      ]
     },
     "metadata": {
      "needs_background": "light"
     },
     "output_type": "display_data"
    }
   ],
   "source": [
    "# construct box plot for continuous variables\n",
    "cont=merged_data.dtypes[(merged_data.dtypes!='uint8') & (merged_data.dtypes!='bool')].index\n",
    "plt.figure(figsize=(10,10))\n",
    "merged_data[cont].boxplot(vert=0)\n",
    "plt.title('With Outliers',fontsize=16)\n",
    "plt.show()"
   ]
  },
  {
   "cell_type": "code",
   "execution_count": 16,
   "id": "b140ff5a",
   "metadata": {},
   "outputs": [],
   "source": [
    "def remove_outlier(col):\n",
    "    sorted(col)\n",
    "    Q1,Q3=np.percentile(col,[25,75])\n",
    "    IQR=Q3-Q1\n",
    "    lower_range= Q1-(1.5 * IQR)\n",
    "    upper_range= Q3+(1.5 * IQR)\n",
    "    return lower_range, upper_range"
   ]
  },
  {
   "cell_type": "code",
   "execution_count": 17,
   "id": "33108675",
   "metadata": {},
   "outputs": [],
   "source": [
    "for column in merged_data[cont].columns:\n",
    "    lr,ur=remove_outlier(merged_data[column])\n",
    "    merged_data[column]=np.where(merged_data[column]>ur,ur,merged_data[column])\n",
    "    merged_data[column]=np.where(merged_data[column]<lr,lr,merged_data[column])"
   ]
  },
  {
   "cell_type": "code",
   "execution_count": 18,
   "id": "bef1d65c",
   "metadata": {},
   "outputs": [
    {
     "data": {
      "image/png": "[encoded data removed]",
      "text/plain": [
       "<Figure size 720x720 with 1 Axes>"
      ]
     },
     "metadata": {
      "needs_background": "light"
     },
     "output_type": "display_data"
    }
   ],
   "source": [
    "plt.figure(figsize=(10,10))\n",
    "merged_data[cont].boxplot(vert=0)\n",
    "plt.title('After Outlier Removal',fontsize=16)\n",
    "plt.show()"
   ]
  },
  {
   "cell_type": "code",
   "execution_count": 19,
   "id": "3bbc6b77",
   "metadata": {},
   "outputs": [],
   "source": [
    "merged_data1=merged_data.copy()"
   ]
  },
  {
   "cell_type": "code",
   "execution_count": 20,
   "id": "58a04f07",
   "metadata": {},
   "outputs": [],
   "source": [
    "# Separating the target variable and the independent variable\n",
    "y = merged_data1.pop(\"CSUSHPISA\")\n",
    "X = merged_data1"
   ]
  },
  {
   "cell_type": "code",
   "execution_count": 21,
   "id": "4f8b187f",
   "metadata": {},
   "outputs": [
    {
     "data": {
      "image/png": "[encoded data removed]",
      "text/plain": [
       "<Figure size 432x288 with 1 Axes>"
      ]
     },
     "metadata": {
      "needs_background": "light"
     },
     "output_type": "display_data"
    },
    {
     "data": {
      "image/png": "[encoded data removed]",
      "text/plain": [
       "<Figure size 432x288 with 1 Axes>"
      ]
     },
     "metadata": {
      "needs_background": "light"
     },
     "output_type": "display_data"
    },
    {
     "data": {
      "image/png": "[encoded data removed]",
      "text/plain": [
       "<Figure size 432x288 with 1 Axes>"
      ]
     },
     "metadata": {
      "needs_background": "light"
     },
     "output_type": "display_data"
    },
    {
     "data": {
      "image/png": "[encoded data removed]",
      "text/plain": [
       "<Figure size 432x288 with 1 Axes>"
      ]
     },
     "metadata": {
      "needs_background": "light"
     },
     "output_type": "display_data"
    },
    {
     "data": {
      "image/png": "[encoded data removed]",
      "text/plain": [
       "<Figure size 432x288 with 1 Axes>"
      ]
     },
     "metadata": {
      "needs_background": "light"
     },
     "output_type": "display_data"
    },
    {
     "data": {
      "image/png": "[encoded data removed]",
      "text/plain": [
       "<Figure size 432x288 with 1 Axes>"
      ]
     },
     "metadata": {
      "needs_background": "light"
     },
     "output_type": "display_data"
    },
    {
     "data": {
      "image/png": "[encoded data removed]",
      "text/plain": [
       "<Figure size 432x288 with 1 Axes>"
      ]
     },
     "metadata": {
      "needs_background": "light"
     },
     "output_type": "display_data"
    },
    {
     "data": {
      "image/png": "[encoded data removed]",
      "text/plain": [
       "<Figure size 432x288 with 1 Axes>"
      ]
     },
     "metadata": {
      "needs_background": "light"
     },
     "output_type": "display_data"
    },
    {
     "data": {
      "image/png": "[encoded data removed]",
      "text/plain": [
       "<Figure size 432x288 with 1 Axes>"
      ]
     },
     "metadata": {
      "needs_background": "light"
     },
     "output_type": "display_data"
    },
    {
     "data": {
      "image/png": "[encoded data removed]",
      "text/plain": [
       "<Figure size 432x288 with 1 Axes>"
      ]
     },
     "metadata": {
      "needs_background": "light"
     },
     "output_type": "display_data"
    },
    {
     "data": {
      "image/png": "[encoded data removed]",
      "text/plain": [
       "<Figure size 432x288 with 1 Axes>"
      ]
     },
     "metadata": {
      "needs_background": "light"
     },
     "output_type": "display_data"
    }
   ],
   "source": [
    "# Plotting scatter plots of the CASE-SHILLER index vs features\n",
    "\n",
    "for feature in X.columns:\n",
    "    plt.figure()\n",
    "    plt.scatter(x = X[feature], y = y)\n",
    "    plt.xlabel(feature)\n",
    "    plt.ylabel(\"CASE-SHILLER index\")\n",
    "    plt.title(f\"CASE-SHILLER index vs {feature}\")"
   ]
  },
  {
   "cell_type": "markdown",
   "id": "7fee7b21",
   "metadata": {},
   "source": [
    "1. Unemployment rate is negatively correlated with home prices which is very natural.\n",
    "2. Impact of great recession is impacted on almost all the plots.\n",
    "3. Except Interest Rate, Mortgage, Vacant housing unit rest all are positively correlated with the Home prices."
   ]
  },
  {
   "cell_type": "code",
   "execution_count": null,
   "id": "117fe55f",
   "metadata": {},
   "outputs": [],
   "source": []
  },
  {
   "cell_type": "markdown",
   "id": "944cd876",
   "metadata": {},
   "source": [
    "### Model Building"
   ]
  },
  {
   "cell_type": "code",
   "execution_count": 22,
   "id": "3686dabc",
   "metadata": {},
   "outputs": [],
   "source": [
    "X = merged_data.drop('CSUSHPISA', axis=1)\n",
    "y = merged_data['CSUSHPISA']"
   ]
  },
  {
   "cell_type": "code",
   "execution_count": 23,
   "id": "20d2e395",
   "metadata": {},
   "outputs": [],
   "source": [
    "X_train, X_test, y_train, y_test = train_test_split(X,y, test_size=0.2, random_state=1)"
   ]
  },
  {
   "cell_type": "code",
   "execution_count": 24,
   "id": "9b293a54",
   "metadata": {},
   "outputs": [],
   "source": [
    "def correlation(X,threshold):\n",
    "    correlated_cols=set()\n",
    "    corr_matrix=X.corr()\n",
    "    for i in range(len(corr_matrix.columns)):\n",
    "        for j in range(i):\n",
    "            if abs(corr_matrix.iloc[i,j])>threshold:\n",
    "                colname=corr_matrix.columns[i]\n",
    "                correlated_cols.add(colname)\n",
    "    return correlated_cols"
   ]
  },
  {
   "cell_type": "code",
   "execution_count": 25,
   "id": "ea2ebf78",
   "metadata": {},
   "outputs": [],
   "source": [
    "corr_feature=correlation(X,0.7)"
   ]
  },
  {
   "cell_type": "code",
   "execution_count": 26,
   "id": "869ab4c6",
   "metadata": {},
   "outputs": [
    {
     "data": {
      "text/plain": [
       "{'GDP',\n",
       " 'Sales_Price_of_Houses_Sold',\n",
       " 'Total_Construction_Spending',\n",
       " 'Vacant_Housing_Units'}"
      ]
     },
     "execution_count": 26,
     "metadata": {},
     "output_type": "execute_result"
    }
   ],
   "source": [
    "corr_feature"
   ]
  },
  {
   "cell_type": "code",
   "execution_count": 27,
   "id": "98b89594",
   "metadata": {},
   "outputs": [],
   "source": [
    "X.drop(columns = corr_feature, inplace = True)"
   ]
  },
  {
   "cell_type": "code",
   "execution_count": 35,
   "id": "faac9937",
   "metadata": {},
   "outputs": [
    {
     "data": {
      "text/html": [
       "<div>\n",
       "<style scoped>\n",
       "    .dataframe tbody tr th:only-of-type {\n",
       "        vertical-align: middle;\n",
       "    }\n",
       "\n",
       "    .dataframe tbody tr th {\n",
       "        vertical-align: top;\n",
       "    }\n",
       "\n",
       "    .dataframe thead th {\n",
       "        text-align: right;\n",
       "    }\n",
       "</style>\n",
       "<table border=\"1\" class=\"dataframe\">\n",
       "  <thead>\n",
       "    <tr style=\"text-align: right;\">\n",
       "      <th></th>\n",
       "      <th>Monthly_Supply_New_Houses</th>\n",
       "      <th>Permit</th>\n",
       "      <th>Total_Construction_Spending</th>\n",
       "      <th>Vacant_Housing_Units</th>\n",
       "      <th>Mortgage_Average</th>\n",
       "      <th>Consumer_Sentiment</th>\n",
       "      <th>Interest_Rate</th>\n",
       "      <th>Sales_Price_of_Houses_Sold</th>\n",
       "      <th>GDP</th>\n",
       "      <th>Unemployment_rate</th>\n",
       "    </tr>\n",
       "  </thead>\n",
       "  <tbody>\n",
       "    <tr>\n",
       "      <th>31</th>\n",
       "      <td>7.800000</td>\n",
       "      <td>583.333333</td>\n",
       "      <td>248572.666667</td>\n",
       "      <td>18551.0</td>\n",
       "      <td>3.820000</td>\n",
       "      <td>71.266667</td>\n",
       "      <td>0.750000</td>\n",
       "      <td>224300.0</td>\n",
       "      <td>15309.471</td>\n",
       "      <td>9.500000</td>\n",
       "    </tr>\n",
       "    <tr>\n",
       "      <th>51</th>\n",
       "      <td>5.400000</td>\n",
       "      <td>1205.000000</td>\n",
       "      <td>455911.666667</td>\n",
       "      <td>17288.0</td>\n",
       "      <td>3.123571</td>\n",
       "      <td>91.300000</td>\n",
       "      <td>0.833333</td>\n",
       "      <td>302500.0</td>\n",
       "      <td>18332.079</td>\n",
       "      <td>5.033333</td>\n",
       "    </tr>\n",
       "    <tr>\n",
       "      <th>39</th>\n",
       "      <td>4.666667</td>\n",
       "      <td>915.000000</td>\n",
       "      <td>302709.333333</td>\n",
       "      <td>17939.0</td>\n",
       "      <td>2.670000</td>\n",
       "      <td>79.400000</td>\n",
       "      <td>0.750000</td>\n",
       "      <td>251700.0</td>\n",
       "      <td>16420.386</td>\n",
       "      <td>7.800000</td>\n",
       "    </tr>\n",
       "    <tr>\n",
       "      <th>2</th>\n",
       "      <td>3.633333</td>\n",
       "      <td>1937.333333</td>\n",
       "      <td>458890.000000</td>\n",
       "      <td>15614.0</td>\n",
       "      <td>5.356923</td>\n",
       "      <td>89.300000</td>\n",
       "      <td>2.000000</td>\n",
       "      <td>191900.0</td>\n",
       "      <td>11566.669</td>\n",
       "      <td>6.133333</td>\n",
       "    </tr>\n",
       "    <tr>\n",
       "      <th>33</th>\n",
       "      <td>6.633333</td>\n",
       "      <td>611.666667</td>\n",
       "      <td>254937.333333</td>\n",
       "      <td>18843.0</td>\n",
       "      <td>3.844615</td>\n",
       "      <td>71.866667</td>\n",
       "      <td>0.750000</td>\n",
       "      <td>228100.0</td>\n",
       "      <td>15557.535</td>\n",
       "      <td>9.066667</td>\n",
       "    </tr>\n",
       "    <tr>\n",
       "      <th>...</th>\n",
       "      <td>...</td>\n",
       "      <td>...</td>\n",
       "      <td>...</td>\n",
       "      <td>...</td>\n",
       "      <td>...</td>\n",
       "      <td>...</td>\n",
       "      <td>...</td>\n",
       "      <td>...</td>\n",
       "      <td>...</td>\n",
       "      <td>...</td>\n",
       "    </tr>\n",
       "    <tr>\n",
       "      <th>75</th>\n",
       "      <td>6.133333</td>\n",
       "      <td>1816.666667</td>\n",
       "      <td>864116.333333</td>\n",
       "      <td>15009.0</td>\n",
       "      <td>2.338462</td>\n",
       "      <td>69.900000</td>\n",
       "      <td>6.687500</td>\n",
       "      <td>423600.0</td>\n",
       "      <td>24349.121</td>\n",
       "      <td>4.200000</td>\n",
       "    </tr>\n",
       "    <tr>\n",
       "      <th>9</th>\n",
       "      <td>4.266667</td>\n",
       "      <td>2137.666667</td>\n",
       "      <td>611957.000000</td>\n",
       "      <td>16061.0</td>\n",
       "      <td>5.276154</td>\n",
       "      <td>90.200000</td>\n",
       "      <td>4.000000</td>\n",
       "      <td>233700.0</td>\n",
       "      <td>12922.656</td>\n",
       "      <td>5.100000</td>\n",
       "    </tr>\n",
       "    <tr>\n",
       "      <th>72</th>\n",
       "      <td>4.433333</td>\n",
       "      <td>1765.666667</td>\n",
       "      <td>759608.000000</td>\n",
       "      <td>15602.0</td>\n",
       "      <td>2.276667</td>\n",
       "      <td>80.233333</td>\n",
       "      <td>0.250000</td>\n",
       "      <td>369800.0</td>\n",
       "      <td>22313.850</td>\n",
       "      <td>6.200000</td>\n",
       "    </tr>\n",
       "    <tr>\n",
       "      <th>12</th>\n",
       "      <td>5.766667</td>\n",
       "      <td>2157.000000</td>\n",
       "      <td>680067.333333</td>\n",
       "      <td>16234.0</td>\n",
       "      <td>5.855385</td>\n",
       "      <td>88.933333</td>\n",
       "      <td>5.583333</td>\n",
       "      <td>247700.0</td>\n",
       "      <td>13599.160</td>\n",
       "      <td>4.733333</td>\n",
       "    </tr>\n",
       "    <tr>\n",
       "      <th>37</th>\n",
       "      <td>4.800000</td>\n",
       "      <td>774.000000</td>\n",
       "      <td>270188.000000</td>\n",
       "      <td>18519.0</td>\n",
       "      <td>3.042308</td>\n",
       "      <td>76.300000</td>\n",
       "      <td>0.750000</td>\n",
       "      <td>238700.0</td>\n",
       "      <td>16207.130</td>\n",
       "      <td>8.200000</td>\n",
       "    </tr>\n",
       "  </tbody>\n",
       "</table>\n",
       "<p>65 rows × 10 columns</p>\n",
       "</div>"
      ],
      "text/plain": [
       "    Monthly_Supply_New_Houses       Permit  Total_Construction_Spending  \\\n",
       "31                   7.800000   583.333333                248572.666667   \n",
       "51                   5.400000  1205.000000                455911.666667   \n",
       "39                   4.666667   915.000000                302709.333333   \n",
       "2                    3.633333  1937.333333                458890.000000   \n",
       "33                   6.633333   611.666667                254937.333333   \n",
       "..                        ...          ...                          ...   \n",
       "75                   6.133333  1816.666667                864116.333333   \n",
       "9                    4.266667  2137.666667                611957.000000   \n",
       "72                   4.433333  1765.666667                759608.000000   \n",
       "12                   5.766667  2157.000000                680067.333333   \n",
       "37                   4.800000   774.000000                270188.000000   \n",
       "\n",
       "    Vacant_Housing_Units  Mortgage_Average   Consumer_Sentiment  \\\n",
       "31               18551.0           3.820000           71.266667   \n",
       "51               17288.0           3.123571           91.300000   \n",
       "39               17939.0           2.670000           79.400000   \n",
       "2                15614.0           5.356923           89.300000   \n",
       "33               18843.0           3.844615           71.866667   \n",
       "..                   ...                ...                 ...   \n",
       "75               15009.0           2.338462           69.900000   \n",
       "9                16061.0           5.276154           90.200000   \n",
       "72               15602.0           2.276667           80.233333   \n",
       "12               16234.0           5.855385           88.933333   \n",
       "37               18519.0           3.042308           76.300000   \n",
       "\n",
       "    Interest_Rate  Sales_Price_of_Houses_Sold        GDP  Unemployment_rate  \n",
       "31       0.750000                    224300.0  15309.471           9.500000  \n",
       "51       0.833333                    302500.0  18332.079           5.033333  \n",
       "39       0.750000                    251700.0  16420.386           7.800000  \n",
       "2        2.000000                    191900.0  11566.669           6.133333  \n",
       "33       0.750000                    228100.0  15557.535           9.066667  \n",
       "..            ...                         ...        ...                ...  \n",
       "75       6.687500                    423600.0  24349.121           4.200000  \n",
       "9        4.000000                    233700.0  12922.656           5.100000  \n",
       "72       0.250000                    369800.0  22313.850           6.200000  \n",
       "12       5.583333                    247700.0  13599.160           4.733333  \n",
       "37       0.750000                    238700.0  16207.130           8.200000  \n",
       "\n",
       "[65 rows x 10 columns]"
      ]
     },
     "execution_count": 35,
     "metadata": {},
     "output_type": "execute_result"
    }
   ],
   "source": [
    "X_train"
   ]
  },
  {
   "cell_type": "code",
   "execution_count": 36,
   "id": "47cf9196",
   "metadata": {},
   "outputs": [
    {
     "data": {
      "text/plain": [
       "LinearRegression()"
      ]
     },
     "execution_count": 36,
     "metadata": {},
     "output_type": "execute_result"
    }
   ],
   "source": [
    "regression_model = LinearRegression()\n",
    "regression_model.fit(X_train, y_train)"
   ]
  },
  {
   "cell_type": "code",
   "execution_count": 41,
   "id": "1b888fdf",
   "metadata": {},
   "outputs": [
    {
     "data": {
      "text/plain": [
       "0.9921637235528287"
      ]
     },
     "execution_count": 41,
     "metadata": {},
     "output_type": "execute_result"
    }
   ],
   "source": [
    "regression_model.score(X_train, y_train)"
   ]
  },
  {
   "cell_type": "code",
   "execution_count": 42,
   "id": "67cab7f0",
   "metadata": {},
   "outputs": [
    {
     "data": {
      "text/plain": [
       "array([147.46013912, 174.7867584 , 147.15175563, 135.30448831,\n",
       "       142.92268958, 142.50753069, 163.69892866, 177.42256206,\n",
       "       212.42859869, 204.8936651 , 169.98072107, 154.85794555,\n",
       "       269.09664973, 217.46247289, 140.95000324, 279.11927938,\n",
       "       155.01576722, 203.96242088, 142.85089287, 163.37552583,\n",
       "       279.70069286, 142.73203177, 192.02833309, 188.9653227 ,\n",
       "       158.45625268, 178.49357707, 154.6775355 , 165.11123315,\n",
       "       177.82267242, 127.98011699, 249.59491364, 179.10093822,\n",
       "       158.25009482, 290.38175948, 197.21830228, 184.06699338,\n",
       "       162.44859976, 144.57073395, 149.20622332, 185.72512508,\n",
       "       172.1276065 , 149.39729045, 202.20058557, 156.00758943,\n",
       "       146.10969443, 213.26888044, 181.04372363, 148.14554814,\n",
       "       146.84548527, 180.344136  , 177.38198672, 165.0988611 ,\n",
       "       173.49433551, 145.77949825, 156.50934942, 226.14188528,\n",
       "       131.91001461, 180.20771434, 203.37646421, 148.21705432,\n",
       "       275.50025313, 169.1980815 , 237.72918783, 189.65027048,\n",
       "       141.33188139])"
      ]
     },
     "execution_count": 42,
     "metadata": {},
     "output_type": "execute_result"
    }
   ],
   "source": [
    "predicted_train=regression_model.predict(X_train)\n",
    "predicted_train"
   ]
  },
  {
   "cell_type": "code",
   "execution_count": 44,
   "id": "e1856eae",
   "metadata": {},
   "outputs": [
    {
     "data": {
      "text/plain": [
       "11.862851758540563"
      ]
     },
     "execution_count": 44,
     "metadata": {},
     "output_type": "execute_result"
    }
   ],
   "source": [
    "from sklearn.metrics import mean_squared_error\n",
    "from sklearn import metrics\n",
    "\n",
    "#MSE on training data\n",
    "#Summation(Y - Y HAT)^2/N\n",
    "metrics.mean_squared_error(y_train,predicted_train)"
   ]
  },
  {
   "cell_type": "code",
   "execution_count": 45,
   "id": "f04b056c",
   "metadata": {},
   "outputs": [
    {
     "data": {
      "text/plain": [
       "3.444249084857331"
      ]
     },
     "execution_count": 45,
     "metadata": {},
     "output_type": "execute_result"
    }
   ],
   "source": [
    "#RMSE of Train Data\n",
    "np.sqrt(11.862851758540563)"
   ]
  },
  {
   "cell_type": "code",
   "execution_count": 48,
   "id": "bc126199",
   "metadata": {},
   "outputs": [
    {
     "data": {
      "text/plain": [
       "0.9939331065645612"
      ]
     },
     "execution_count": 48,
     "metadata": {},
     "output_type": "execute_result"
    }
   ],
   "source": [
    "regression_model.score(X_test, y_test)"
   ]
  },
  {
   "cell_type": "code",
   "execution_count": 50,
   "id": "3813d430",
   "metadata": {},
   "outputs": [
    {
     "data": {
      "text/plain": [
       "array([176.03006683, 216.55560315, 163.9557344 , 180.50876018,\n",
       "       146.43794553, 205.72837392, 197.09066452, 276.27951447,\n",
       "       289.73021939, 160.82870579, 283.56238139, 210.74728806,\n",
       "       166.76968719, 139.00363439, 205.7574299 , 144.54696756,\n",
       "       140.07432628])"
      ]
     },
     "execution_count": 50,
     "metadata": {},
     "output_type": "execute_result"
    }
   ],
   "source": [
    "predicted_test=regression_model.predict(X_test)\n",
    "predicted_test"
   ]
  },
  {
   "cell_type": "code",
   "execution_count": 51,
   "id": "b14440c6",
   "metadata": {},
   "outputs": [
    {
     "data": {
      "text/plain": [
       "13.19616983367323"
      ]
     },
     "execution_count": 51,
     "metadata": {},
     "output_type": "execute_result"
    }
   ],
   "source": [
    "#MSE on testing data\n",
    "#Summation(Y - Y HAT)^2/N\n",
    "metrics.mean_squared_error(y_test,predicted_test)"
   ]
  },
  {
   "cell_type": "code",
   "execution_count": 52,
   "id": "cb6c01ab",
   "metadata": {},
   "outputs": [
    {
     "data": {
      "text/plain": [
       "3.6326532773818685"
      ]
     },
     "execution_count": 52,
     "metadata": {},
     "output_type": "execute_result"
    }
   ],
   "source": [
    "#RMSE of Test Data\n",
    "np.sqrt(13.19616983367323)"
   ]
  },
  {
   "cell_type": "code",
   "execution_count": 54,
   "id": "98dd068e",
   "metadata": {},
   "outputs": [],
   "source": [
    "import statsmodels.formula.api as smf\n",
    "from statsmodels.compat import lzip\n",
    "import statsmodels.api as sm\n"
   ]
  },
  {
   "cell_type": "code",
   "execution_count": 55,
   "id": "00064529",
   "metadata": {},
   "outputs": [],
   "source": [
    "ols_model=sm.OLS(y_train,X_train).fit()"
   ]
  },
  {
   "cell_type": "code",
   "execution_count": 56,
   "id": "8d31f9e1",
   "metadata": {},
   "outputs": [
    {
     "data": {
      "text/html": [
       "<table class=\"simpletable\">\n",
       "<caption>OLS Regression Results</caption>\n",
       "<tr>\n",
       "  <th>Dep. Variable:</th>        <td>CSUSHPISA</td>    <th>  R-squared (uncentered):</th>      <td>   1.000</td> \n",
       "</tr>\n",
       "<tr>\n",
       "  <th>Model:</th>                   <td>OLS</td>       <th>  Adj. R-squared (uncentered):</th> <td>   1.000</td> \n",
       "</tr>\n",
       "<tr>\n",
       "  <th>Method:</th>             <td>Least Squares</td>  <th>  F-statistic:       </th>          <td>1.508e+04</td>\n",
       "</tr>\n",
       "<tr>\n",
       "  <th>Date:</th>             <td>Mon, 25 Sep 2023</td> <th>  Prob (F-statistic):</th>          <td>9.49e-91</td> \n",
       "</tr>\n",
       "<tr>\n",
       "  <th>Time:</th>                 <td>22:54:05</td>     <th>  Log-Likelihood:    </th>          <td> -173.59</td> \n",
       "</tr>\n",
       "<tr>\n",
       "  <th>No. Observations:</th>      <td>    65</td>      <th>  AIC:               </th>          <td>   367.2</td> \n",
       "</tr>\n",
       "<tr>\n",
       "  <th>Df Residuals:</th>          <td>    55</td>      <th>  BIC:               </th>          <td>   388.9</td> \n",
       "</tr>\n",
       "<tr>\n",
       "  <th>Df Model:</th>              <td>    10</td>      <th>                     </th>              <td> </td>    \n",
       "</tr>\n",
       "<tr>\n",
       "  <th>Covariance Type:</th>      <td>nonrobust</td>    <th>                     </th>              <td> </td>    \n",
       "</tr>\n",
       "</table>\n",
       "<table class=\"simpletable\">\n",
       "<tr>\n",
       "               <td></td>                  <th>coef</th>     <th>std err</th>      <th>t</th>      <th>P>|t|</th>  <th>[0.025</th>    <th>0.975]</th>  \n",
       "</tr>\n",
       "<tr>\n",
       "  <th>Monthly_Supply_New_Houses</th>   <td>    4.5529</td> <td>    0.722</td> <td>    6.306</td> <td> 0.000</td> <td>    3.106</td> <td>    6.000</td>\n",
       "</tr>\n",
       "<tr>\n",
       "  <th>Permit</th>                      <td>   -0.0021</td> <td>    0.005</td> <td>   -0.392</td> <td> 0.696</td> <td>   -0.013</td> <td>    0.008</td>\n",
       "</tr>\n",
       "<tr>\n",
       "  <th>Total_Construction_Spending</th> <td>    0.0002</td> <td> 2.06e-05</td> <td>    7.799</td> <td> 0.000</td> <td>    0.000</td> <td>    0.000</td>\n",
       "</tr>\n",
       "<tr>\n",
       "  <th>Vacant_Housing_Units</th>        <td>   -0.0002</td> <td>    0.001</td> <td>   -0.251</td> <td> 0.802</td> <td>   -0.002</td> <td>    0.001</td>\n",
       "</tr>\n",
       "<tr>\n",
       "  <th>Mortgage_Average </th>           <td>   -4.3799</td> <td>    0.973</td> <td>   -4.500</td> <td> 0.000</td> <td>   -6.330</td> <td>   -2.429</td>\n",
       "</tr>\n",
       "<tr>\n",
       "  <th>Consumer_Sentiment</th>          <td>    0.1567</td> <td>    0.074</td> <td>    2.120</td> <td> 0.039</td> <td>    0.009</td> <td>    0.305</td>\n",
       "</tr>\n",
       "<tr>\n",
       "  <th>Interest_Rate</th>               <td>    2.1493</td> <td>    0.468</td> <td>    4.593</td> <td> 0.000</td> <td>    1.212</td> <td>    3.087</td>\n",
       "</tr>\n",
       "<tr>\n",
       "  <th>Sales_Price_of_Houses_Sold</th>  <td>-7.002e-05</td> <td> 6.07e-05</td> <td>   -1.155</td> <td> 0.253</td> <td>   -0.000</td> <td> 5.15e-05</td>\n",
       "</tr>\n",
       "<tr>\n",
       "  <th>GDP</th>                         <td>    0.0050</td> <td>    0.001</td> <td>    5.712</td> <td> 0.000</td> <td>    0.003</td> <td>    0.007</td>\n",
       "</tr>\n",
       "<tr>\n",
       "  <th>Unemployment_rate</th>           <td>    2.0879</td> <td>    0.397</td> <td>    5.254</td> <td> 0.000</td> <td>    1.292</td> <td>    2.884</td>\n",
       "</tr>\n",
       "</table>\n",
       "<table class=\"simpletable\">\n",
       "<tr>\n",
       "  <th>Omnibus:</th>       <td> 0.162</td> <th>  Durbin-Watson:     </th> <td>   1.875</td>\n",
       "</tr>\n",
       "<tr>\n",
       "  <th>Prob(Omnibus):</th> <td> 0.922</td> <th>  Jarque-Bera (JB):  </th> <td>   0.032</td>\n",
       "</tr>\n",
       "<tr>\n",
       "  <th>Skew:</th>          <td> 0.054</td> <th>  Prob(JB):          </th> <td>   0.984</td>\n",
       "</tr>\n",
       "<tr>\n",
       "  <th>Kurtosis:</th>      <td> 2.984</td> <th>  Cond. No.          </th> <td>1.40e+06</td>\n",
       "</tr>\n",
       "</table><br/><br/>Notes:<br/>[1] R² is computed without centering (uncentered) since the model does not contain a constant.<br/>[2] Standard Errors assume that the covariance matrix of the errors is correctly specified.<br/>[3] The condition number is large, 1.4e+06. This might indicate that there are<br/>strong multicollinearity or other numerical problems."
      ],
      "text/plain": [
       "<class 'statsmodels.iolib.summary.Summary'>\n",
       "\"\"\"\n",
       "                                 OLS Regression Results                                \n",
       "=======================================================================================\n",
       "Dep. Variable:              CSUSHPISA   R-squared (uncentered):                   1.000\n",
       "Model:                            OLS   Adj. R-squared (uncentered):              1.000\n",
       "Method:                 Least Squares   F-statistic:                          1.508e+04\n",
       "Date:                Mon, 25 Sep 2023   Prob (F-statistic):                    9.49e-91\n",
       "Time:                        22:54:05   Log-Likelihood:                         -173.59\n",
       "No. Observations:                  65   AIC:                                      367.2\n",
       "Df Residuals:                      55   BIC:                                      388.9\n",
       "Df Model:                          10                                                  \n",
       "Covariance Type:            nonrobust                                                  \n",
       "===============================================================================================\n",
       "                                  coef    std err          t      P>|t|      [0.025      0.975]\n",
       "-----------------------------------------------------------------------------------------------\n",
       "Monthly_Supply_New_Houses       4.5529      0.722      6.306      0.000       3.106       6.000\n",
       "Permit                         -0.0021      0.005     -0.392      0.696      -0.013       0.008\n",
       "Total_Construction_Spending     0.0002   2.06e-05      7.799      0.000       0.000       0.000\n",
       "Vacant_Housing_Units           -0.0002      0.001     -0.251      0.802      -0.002       0.001\n",
       "Mortgage_Average               -4.3799      0.973     -4.500      0.000      -6.330      -2.429\n",
       "Consumer_Sentiment              0.1567      0.074      2.120      0.039       0.009       0.305\n",
       "Interest_Rate                   2.1493      0.468      4.593      0.000       1.212       3.087\n",
       "Sales_Price_of_Houses_Sold  -7.002e-05   6.07e-05     -1.155      0.253      -0.000    5.15e-05\n",
       "GDP                             0.0050      0.001      5.712      0.000       0.003       0.007\n",
       "Unemployment_rate               2.0879      0.397      5.254      0.000       1.292       2.884\n",
       "==============================================================================\n",
       "Omnibus:                        0.162   Durbin-Watson:                   1.875\n",
       "Prob(Omnibus):                  0.922   Jarque-Bera (JB):                0.032\n",
       "Skew:                           0.054   Prob(JB):                        0.984\n",
       "Kurtosis:                       2.984   Cond. No.                     1.40e+06\n",
       "==============================================================================\n",
       "\n",
       "Notes:\n",
       "[1] R² is computed without centering (uncentered) since the model does not contain a constant.\n",
       "[2] Standard Errors assume that the covariance matrix of the errors is correctly specified.\n",
       "[3] The condition number is large, 1.4e+06. This might indicate that there are\n",
       "strong multicollinearity or other numerical problems.\n",
       "\"\"\""
      ]
     },
     "execution_count": 56,
     "metadata": {},
     "output_type": "execute_result"
    }
   ],
   "source": [
    "ols_model.summary()"
   ]
  },
  {
   "cell_type": "markdown",
   "id": "178bbd9d",
   "metadata": {},
   "source": [
    "### Interpretation and Insights:"
   ]
  },
  {
   "cell_type": "markdown",
   "id": "3a13e0fc",
   "metadata": {},
   "source": [
    "Supply Factors:\n",
    "1. The S&P/Case-Shiller U.S. National Home Price Index  shows a very modest positive association with the monthly supply of new homes . Because the correlation is so weak, we can conclude it is negative (because supply increase). \n",
    "2. This implies that an increase in the supply of new homes may have a minor negative influence on housing prices.\n",
    "3. The number of authorised housing units  has a moderately positive link with home values. This means that a greater number of authorised housing units may contribute to higher property prices. The reason for this is that when more houses are authorised for building, the supply of houses, materials, and labours is impacted.\n",
    "4. Total construction spending on residential projects has a strong positive correlation with home prices. This indicates that higher construction spending is strongly associated with higher home prices. The reason for this is simple: construction costs include building materials, labour, and other charges. This raises overall house costs.\n",
    "5. The estimated number of vacant housing units has a moderate negative correlation with home prices. This suggests that a higher number of vacant housing units may exert downward pressure on home prices. Because houses supply increases leads to decrease in home prices.\n",
    "\n",
    "Demand Factors:\n",
    "1. The average interest rate for a 30-year fixed-rate mortgage shows a weak negative correlation with home prices. This implies that higher mortgage rates are associated with slightly lower home prices. A rise in the federal funds rate can cause mortgage rates to rise, and higher mortgage rates can reduce home buying demand, causing home prices to fall.\n",
    "2. Consumer sentiment has a weak negative correlation with home prices. Lower consumer sentiment is associated with slightly lower home prices. When consumers are confident about the economy, they are more likely to spend money on big-ticket items such as homes which can drive up home prices.\n",
    "3. Data show that interest rates or discount rates  have a weak positive association with home prices, indicating a scaling or trailing issue. Interest rates are negatively correlated with house prices. Higher rates are leads to lower home prices.\n",
    "\n",
    "4. Gross Domestic Product (GDP) has a strong positive correlation with home prices. Higher GDP is strongly associated with higher home prices.\n",
    "5. The median sales price of houses sold has a strong positive correlation with home prices. Higher median sales prices are strongly associated with higher home prices."
   ]
  },
  {
   "cell_type": "markdown",
   "id": "808feb26",
   "metadata": {},
   "source": [
    "### CONCLUSION"
   ]
  },
  {
   "cell_type": "markdown",
   "id": "50c2c44d",
   "metadata": {},
   "source": [
    "Based on the correlation analysis and the coefficients from the Linear Regression model, several key insights can be derived:\n",
    "\n",
    "1. Supply factors, such as house inventory and the number of authorized housing units, have a positive influence on home prices. Higher construction spending on residential projects also contributes significantly to higher home prices.\n",
    "2. Demand factor, such as mortgage interest rates, have a negative impact on home prices. Higher mortgage rates and lower consumer sentiment are associated with slightly lower home prices.\n",
    "3. Economic factors, including GDP and interest rates, play a crucial role in determining home prices. A strong economy with higher GDP and slightly lower interest rates tends to support higher home prices.\n",
    "4. The median sales price of houses sold is strongly correlated with home prices, reflecting the importance of market dynamics and buyer behaviour in determining home price movements.\n",
    "5. These insights can be valuable for various stakeholders in the real estate market, including home buyers, sellers, developers, and policymakers. Understanding the factors that influence home prices can help make informed decisions related to investments, financing, and economic policies."
   ]
  }
 ],
 "metadata": {
  "kernelspec": {
   "display_name": "Python 3 (ipykernel)",
   "language": "python",
   "name": "python3"
  },
  "language_info": {
   "codemirror_mode": {
    "name": "ipython",
    "version": 3
   },
   "file_extension": ".py",
   "mimetype": "text/x-python",
   "name": "python",
   "nbconvert_exporter": "python",
   "pygments_lexer": "ipython3",
   "version": "3.9.12"
  }
 },
 "nbformat": 4,
 "nbformat_minor": 5
}
